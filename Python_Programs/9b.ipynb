{
 "cells": [
  {
   "cell_type": "code",
   "execution_count": null,
   "metadata": {},
   "outputs": [],
   "source": [
    "from tkinter import *\n",
    "from tkinter.font import Font\n",
    "\n",
    "app = Tk()\n",
    "app.title(\"Welcome\")\n",
    "app.geometry(\"200x200\")\n",
    "\n",
    "text = StringVar()\n",
    "txt = Entry(app,width=10,textvariable=text)\n",
    "txt.grid(column=0,row=2)\n",
    "\n",
    "lbl = Label(app,text=\"Hello\")\n",
    "lbl.grid(column=0,row=0)\n",
    "\n",
    "lbl1 = Label(app)\n",
    "lbl1.grid(column=0,row=1)\n",
    "\n",
    "chkVar = BooleanVar()\n",
    "chkVar.set(True)\n",
    "chk = Checkbutton(app,text=\"select\",variable=chkVar)\n",
    "chk.grid(column=0,row=4)\n",
    "\n",
    "rbVar = IntVar()\n",
    "rb1 = Radiobutton(app,text=\"Option 1\",variable=rbVar,value = 1)\n",
    "rb2 = Radiobutton(app,text=\"Option 2\",variable=rbVar,value = 2)\n",
    "rb1.grid(row=5,column=0)\n",
    "rb2.grid(row=5,column=1)\n",
    "\n",
    "sVar = DoubleVar()\n",
    "scale = Scale(app,variable = sVar,orient=\"horizontal\")\n",
    "scale.grid(row=6)\n",
    "\n",
    "\n",
    "def btnCallBack():\n",
    "    \n",
    "    lbl.config(text=\"Button Clicked\")\n",
    "    lbl1.config(text=f\"You typed: {text.get()} Check: {chkVar.get()} \\nRB: {rbVar.get()} Scale: {sVar.get()}\")\n",
    "    \n",
    "    \n",
    "\n",
    "btn = Button(app,text=\"Click Me\", bg=\"yellow\",fg=\"black\",command=btnCallBack)\n",
    "btn.grid(column=0,row=3)\n",
    "\n",
    "\n",
    "\n",
    "\n",
    "app.mainloop()"
   ]
  },
  {
   "cell_type": "code",
   "execution_count": null,
   "metadata": {},
   "outputs": [],
   "source": []
  }
 ],
 "metadata": {
  "kernelspec": {
   "display_name": "Python 3",
   "language": "python",
   "name": "python3"
  },
  "language_info": {
   "codemirror_mode": {
    "name": "ipython",
    "version": 3
   },
   "file_extension": ".py",
   "mimetype": "text/x-python",
   "name": "python",
   "nbconvert_exporter": "python",
   "pygments_lexer": "ipython3",
   "version": "3.7.3"
  }
 },
 "nbformat": 4,
 "nbformat_minor": 2
}
