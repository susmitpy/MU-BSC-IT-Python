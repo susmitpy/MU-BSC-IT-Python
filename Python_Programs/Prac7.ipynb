{
 "cells": [
  {
   "cell_type": "markdown",
   "metadata": {},
   "source": [
    "# Prac 7 A"
   ]
  },
  {
   "cell_type": "code",
   "execution_count": 3,
   "metadata": {},
   "outputs": [
    {
     "name": "stdout",
     "output_type": "stream",
     "text": [
      "Name: Susmit\n",
      "Roll no.: 9229\n",
      "Stream: CS\n"
     ]
    }
   ],
   "source": [
    "class Student:\n",
    "    stream = \"IT\"\n",
    "    def __init__(self,roll):\n",
    "        self.roll = roll\n",
    "    \n",
    "    def set_name(self,name):\n",
    "        self.name = name\n",
    "    \n",
    "    def change_stream(self,stream):\n",
    "        self.stream = stream\n",
    "    \n",
    "    def details(self):\n",
    "        print(f\"Name: {self.name}\\nRoll no.: {self.roll}\\nStream: {self.stream}\")\n",
    "    \n",
    "s = Student(\"9229\")\n",
    "s.set_name(\"Susmit\")\n",
    "s.change_stream(\"CS\")\n",
    "s.details()"
   ]
  },
  {
   "cell_type": "markdown",
   "metadata": {},
   "source": [
    "# Prac 7 B"
   ]
  },
  {
   "cell_type": "code",
   "execution_count": 4,
   "metadata": {},
   "outputs": [],
   "source": [
    "class Person:\n",
    "    def __init__(self,name,gender):\n",
    "        self.name = name\n",
    "        self.gender = gender\n",
    "    \n",
    "    def set_name(self,name):\n",
    "        self.name = name\n",
    "\n",
    "class Employee(Person):\n",
    "    def set_subject(self,subject):\n",
    "        self.subject = subject\n",
    "    \n",
    "    def details(self):\n",
    "        print(\"Employee\")\n",
    "        print(f\"Name: {self.name}\\nGender: {self.gender}\\nSubject: {self.subject}\")\n",
    "    \n",
    "class Student(Person):\n",
    "    def set_grade(self,grade):\n",
    "        self.grade = grade\n",
    "        \n",
    "    def details(self):\n",
    "        print(\"Student\")\n",
    "        print(f\"Name: {self.name}\\nGender: {self.gender}\\nGrade: {self.grade}\")\n",
    "        "
   ]
  },
  {
   "cell_type": "code",
   "execution_count": 5,
   "metadata": {},
   "outputs": [
    {
     "name": "stdout",
     "output_type": "stream",
     "text": [
      "Employee\n",
      "Name: ABC\n",
      "Gender: Female\n",
      "Subject: Python\n",
      "Student\n",
      "Name: Susmit\n",
      "Gender: Male\n",
      "Grade: O\n"
     ]
    }
   ],
   "source": [
    "e = Employee(\"ABC\",\"Female\")\n",
    "e.set_subject(\"Python\")\n",
    "\n",
    "s = Student(\"Susmit\", \"Male\")\n",
    "s.set_grade(\"O\")\n",
    "\n",
    "e.details()\n",
    "s.details()"
   ]
  },
  {
   "cell_type": "markdown",
   "metadata": {},
   "source": [
    "# Prac 7 C"
   ]
  },
  {
   "cell_type": "code",
   "execution_count": 48,
   "metadata": {},
   "outputs": [],
   "source": [
    "class Numbers:\n",
    "    MULTIPLIER = 2\n",
    "    \n",
    "    def __init__(self,x,y):\n",
    "        self._x = x\n",
    "        self._y = y\n",
    "    \n",
    "    def add(self):\n",
    "        return self._x + self._y\n",
    "\n",
    "    @classmethod\n",
    "    def multiply(cls,a):\n",
    "        return a*cls.MULTIPLIER\n",
    "    \n",
    "    @staticmethod\n",
    "    def subtract(b,c):\n",
    "        return b-c\n",
    "    \n",
    "    @property\n",
    "    def value(self):\n",
    "        return (self._x,self._y)\n",
    "    \n",
    "    @property\n",
    "    def x(self):\n",
    "        return self._x\n",
    "    \n",
    "    @property\n",
    "    def y(self):\n",
    "        return self._y\n",
    "    \n",
    "    @x.setter\n",
    "    def x(self,x):\n",
    "        self._x = x\n",
    "    \n",
    "    @y.setter\n",
    "    def y(self,y):\n",
    "        self._y = y\n",
    "        \n",
    "    @x.deleter\n",
    "    def x(self):\n",
    "        del self._x\n",
    "    \n",
    "    @y.deleter\n",
    "    def y(self):\n",
    "        del self._y"
   ]
  },
  {
   "cell_type": "code",
   "execution_count": 49,
   "metadata": {},
   "outputs": [
    {
     "name": "stdout",
     "output_type": "stream",
     "text": [
      "Addition: 5\n",
      "Multiplication: 8\n",
      "Subtraction: 6\n",
      "value: (2, 3)\n",
      "value: (3, 4)\n",
      "'Numbers' object has no attribute '_x'\n"
     ]
    }
   ],
   "source": [
    "n = Numbers(2,3)\n",
    "print(f\"Addition: {n.add()}\")\n",
    "print(f\"Multiplication: {n.multiply(4)}\")\n",
    "print(f\"Subtraction: {n.subtract(9,3)}\")\n",
    "print(f\"value: {n.value}\")\n",
    "n.x = 3\n",
    "n.y = 4\n",
    "print(f\"value: {n.value}\")\n",
    "del n.x\n",
    "try:\n",
    "    print(f\"x: {n.x}\")\n",
    "except Exception as e:\n",
    "    print(e)"
   ]
  },
  {
   "cell_type": "code",
   "execution_count": null,
   "metadata": {},
   "outputs": [],
   "source": [
    "\n"
   ]
  },
  {
   "cell_type": "code",
   "execution_count": null,
   "metadata": {},
   "outputs": [],
   "source": []
  }
 ],
 "metadata": {
  "kernelspec": {
   "display_name": "Python 3",
   "language": "python",
   "name": "python3"
  },
  "language_info": {
   "codemirror_mode": {
    "name": "ipython",
    "version": 3
   },
   "file_extension": ".py",
   "mimetype": "text/x-python",
   "name": "python",
   "nbconvert_exporter": "python",
   "pygments_lexer": "ipython3",
   "version": "3.7.3"
  }
 },
 "nbformat": 4,
 "nbformat_minor": 4
}
