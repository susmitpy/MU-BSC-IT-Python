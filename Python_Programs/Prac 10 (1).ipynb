{
 "cells": [
  {
   "cell_type": "markdown",
   "metadata": {},
   "source": [
    "# sqlite"
   ]
  },
  {
   "cell_type": "code",
   "execution_count": 1,
   "metadata": {},
   "outputs": [],
   "source": [
    "import sqlite3"
   ]
  },
  {
   "cell_type": "markdown",
   "metadata": {},
   "source": [
    "# Prac 10 A"
   ]
  },
  {
   "cell_type": "code",
   "execution_count": 2,
   "metadata": {},
   "outputs": [],
   "source": [
    "con = sqlite3.connect(\"compa.db\")\n",
    "cur = con.cursor()"
   ]
  },
  {
   "cell_type": "code",
   "execution_count": 3,
   "metadata": {},
   "outputs": [
    {
     "data": {
      "text/plain": [
       "<sqlite3.Cursor at 0x24a46ca4b20>"
      ]
     },
     "execution_count": 3,
     "metadata": {},
     "output_type": "execute_result"
    }
   ],
   "source": [
    "table_deletetion_query = \"\"\"\n",
    "DROP TABLE Employee;\n",
    "\"\"\"\n",
    "cur.execute(table_deletetion_query)"
   ]
  },
  {
   "cell_type": "code",
   "execution_count": 4,
   "metadata": {},
   "outputs": [
    {
     "data": {
      "text/plain": [
       "<sqlite3.Cursor at 0x24a46ca4b20>"
      ]
     },
     "execution_count": 4,
     "metadata": {},
     "output_type": "execute_result"
    }
   ],
   "source": [
    "table_creation_query = \"\"\"\n",
    "CREATE TABLE Employee(\n",
    "staff_no INT PRIMARY KEY,\n",
    "fname VARCHAR(20),\n",
    "lname VARCHAR(30),\n",
    "gender CHAR(1),\n",
    "joining DATE,\n",
    "birth_date DATE\n",
    ");\n",
    "\"\"\"\n",
    "cur.execute(table_creation_query)"
   ]
  },
  {
   "cell_type": "code",
   "execution_count": 7,
   "metadata": {},
   "outputs": [
    {
     "data": {
      "text/plain": [
       "<sqlite3.Cursor at 0x24a46ca4b20>"
      ]
     },
     "execution_count": 7,
     "metadata": {},
     "output_type": "execute_result"
    }
   ],
   "source": [
    "table_clearing_query = \"\"\"\n",
    "    DELETE FROM Employee;\n",
    "\"\"\"\n",
    "cur.execute(table_clearing_query)"
   ]
  },
  {
   "cell_type": "code",
   "execution_count": 8,
   "metadata": {},
   "outputs": [],
   "source": [
    "records = [(1,'abc','ABC','m','2012-01-01','2000-01-01'),\n",
    "           (2,'pqr','PQR','m','2013-01-01','2001-01-01'),\n",
    "           (3,'xyz','XYZ','m','2014-01-01','2002-01-01'),\n",
    "           ]\n",
    "insertion_query_format = \"\"\"\n",
    "INSERT INTO Employee VALUES({},'{}', '{}', '{}', '{}', '{}');\n",
    "\"\"\"\n",
    "for r in records:\n",
    "    cur.execute(insertion_query_format.format(r[0],r[1],r[2],r[3],r[4],r[5],))"
   ]
  },
  {
   "cell_type": "code",
   "execution_count": 15,
   "metadata": {},
   "outputs": [],
   "source": [
    "select_query = \"\"\"\n",
    "SELECT * FROM Employee;\n",
    "\"\"\"\n",
    "\n",
    "cursor = cur.execute(select_query)\n",
    "cursor.fetchall()"
   ]
  },
  {
   "cell_type": "code",
   "execution_count": 17,
   "metadata": {},
   "outputs": [
    {
     "data": {
      "text/plain": [
       "<sqlite3.Cursor at 0x24a46ca4b20>"
      ]
     },
     "execution_count": 17,
     "metadata": {},
     "output_type": "execute_result"
    }
   ],
   "source": [
    "update_query = \"\"\"\n",
    "UPDATE Employee SET fname = 'def' WHERE staff_no=1;\n",
    "\"\"\"\n",
    "cur.execute(update_query)"
   ]
  },
  {
   "cell_type": "code",
   "execution_count": 18,
   "metadata": {},
   "outputs": [
    {
     "data": {
      "text/plain": [
       "[(1, 'def', 'ABC', 'm', '2012-01-01', '2000-01-01'),\n",
       " (2, 'pqr', 'PQR', 'm', '2013-01-01', '2001-01-01'),\n",
       " (3, 'xyz', 'XYZ', 'm', '2014-01-01', '2002-01-01')]"
      ]
     },
     "execution_count": 18,
     "metadata": {},
     "output_type": "execute_result"
    }
   ],
   "source": [
    "cursor = cur.execute(select_query)\n",
    "cursor.fetchall()"
   ]
  },
  {
   "cell_type": "code",
   "execution_count": 19,
   "metadata": {},
   "outputs": [
    {
     "data": {
      "text/plain": [
       "<sqlite3.Cursor at 0x24a46ca4b20>"
      ]
     },
     "execution_count": 19,
     "metadata": {},
     "output_type": "execute_result"
    }
   ],
   "source": [
    "delete_query = \"\"\"\n",
    "DELETE FROM Employee WHERE staff_no = 2;\n",
    "\"\"\"\n",
    "cur.execute(delete_query)"
   ]
  },
  {
   "cell_type": "code",
   "execution_count": 20,
   "metadata": {},
   "outputs": [
    {
     "data": {
      "text/plain": [
       "[(1, 'def', 'ABC', 'm', '2012-01-01', '2000-01-01'),\n",
       " (3, 'xyz', 'XYZ', 'm', '2014-01-01', '2002-01-01')]"
      ]
     },
     "execution_count": 20,
     "metadata": {},
     "output_type": "execute_result"
    }
   ],
   "source": [
    "cursor = cur.execute(select_query)\n",
    "cursor.fetchall()"
   ]
  },
  {
   "cell_type": "code",
   "execution_count": 76,
   "metadata": {},
   "outputs": [
    {
     "ename": "ProgrammingError",
     "evalue": "Cannot operate on a closed database.",
     "output_type": "error",
     "traceback": [
      "\u001b[1;31m---------------------------------------------------------------------------\u001b[0m",
      "\u001b[1;31mProgrammingError\u001b[0m                          Traceback (most recent call last)",
      "\u001b[1;32m<ipython-input-76-ec49cec336f8>\u001b[0m in \u001b[0;36m<module>\u001b[1;34m\u001b[0m\n\u001b[1;32m----> 1\u001b[1;33m \u001b[0mcon\u001b[0m\u001b[1;33m.\u001b[0m\u001b[0mcommit\u001b[0m\u001b[1;33m(\u001b[0m\u001b[1;33m)\u001b[0m\u001b[1;33m\u001b[0m\u001b[1;33m\u001b[0m\u001b[0m\n\u001b[0m\u001b[0;32m      2\u001b[0m \u001b[0mcon\u001b[0m\u001b[1;33m.\u001b[0m\u001b[0mclose\u001b[0m\u001b[1;33m(\u001b[0m\u001b[1;33m)\u001b[0m\u001b[1;33m\u001b[0m\u001b[1;33m\u001b[0m\u001b[0m\n",
      "\u001b[1;31mProgrammingError\u001b[0m: Cannot operate on a closed database."
     ]
    }
   ],
   "source": [
    "con.commit()\n",
    "con.close()"
   ]
  },
  {
   "cell_type": "markdown",
   "metadata": {},
   "source": [
    "# Prac 10 B"
   ]
  },
  {
   "cell_type": "code",
   "execution_count": 21,
   "metadata": {},
   "outputs": [],
   "source": [
    "import numpy as np\n",
    "\n",
    "def edit_distance(s1,s2):\n",
    "    n1 = len(s1)\n",
    "    n2 = len(s2)\n",
    "    \n",
    "    ed = np.zeros((n1+1,n2+1))\n",
    "    \n",
    "    ed[:,0] = list(range(n1+1))\n",
    "    ed[0,:] = list(range(n2+1))\n",
    "    \n",
    "    \n",
    "    "
   ]
  },
  {
   "cell_type": "code",
   "execution_count": 22,
   "metadata": {},
   "outputs": [],
   "source": [
    "s1 = \"more\"\n",
    "s2 = \"most\""
   ]
  },
  {
   "cell_type": "code",
   "execution_count": 23,
   "metadata": {},
   "outputs": [],
   "source": [
    "n1 = len(s1)\n",
    "n2 = len(s2)\n",
    "\n",
    "ed = np.zeros((n1+1,n2+1))\n",
    "\n",
    "ed[:,0] = list(range(n1+1))\n",
    "ed[0,:] = list(range(n2+1))"
   ]
  },
  {
   "cell_type": "code",
   "execution_count": 24,
   "metadata": {},
   "outputs": [
    {
     "data": {
      "text/plain": [
       "array([[0., 1., 2., 3., 4.],\n",
       "       [1., 0., 0., 0., 0.],\n",
       "       [2., 0., 0., 0., 0.],\n",
       "       [3., 0., 0., 0., 0.],\n",
       "       [4., 0., 0., 0., 0.]])"
      ]
     },
     "execution_count": 24,
     "metadata": {},
     "output_type": "execute_result"
    }
   ],
   "source": [
    "ed"
   ]
  },
  {
   "cell_type": "code",
   "execution_count": null,
   "metadata": {},
   "outputs": [],
   "source": []
  }
 ],
 "metadata": {
  "kernelspec": {
   "display_name": "Python 3",
   "language": "python",
   "name": "python3"
  },
  "language_info": {
   "codemirror_mode": {
    "name": "ipython",
    "version": 3
   },
   "file_extension": ".py",
   "mimetype": "text/x-python",
   "name": "python",
   "nbconvert_exporter": "python",
   "pygments_lexer": "ipython3",
   "version": "3.7.3"
  }
 },
 "nbformat": 4,
 "nbformat_minor": 2
}
