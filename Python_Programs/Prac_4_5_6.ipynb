{
 "cells": [
  {
   "cell_type": "markdown",
   "metadata": {},
   "source": [
    "## Prac 4"
   ]
  },
  {
   "cell_type": "code",
   "execution_count": 38,
   "metadata": {},
   "outputs": [
    {
     "name": "stdout",
     "output_type": "stream",
     "text": [
      "Enter list 1: 1 3 5\n",
      "Enter list 2: 5 8 9\n"
     ]
    },
    {
     "data": {
      "text/plain": [
       "True"
      ]
     },
     "execution_count": 38,
     "metadata": {},
     "output_type": "execute_result"
    }
   ],
   "source": [
    "def inter(l1,l2):\n",
    "    if len(set(l1).intersection(set(l2))) == 0:\n",
    "        return False\n",
    "    return True\n",
    "\n",
    "l1 = input(\"Enter list 1: \").split(\" \")\n",
    "l2 = input(\"Enter list 2: \").split(\" \")\n",
    "\n",
    "inter(l1,l2)\n"
   ]
  },
  {
   "cell_type": "code",
   "execution_count": 57,
   "metadata": {},
   "outputs": [
    {
     "name": "stdout",
     "output_type": "stream",
     "text": [
      "Enter elements: 1 2 3 4 5 6 7 8 9 10\n",
      "['2', '4', '7', '8', '9', '10']\n"
     ]
    }
   ],
   "source": [
    "l = input(\"Enter elements: \").split(\" \")\n",
    "remove = [0, 2, 4, 5]\n",
    "for i in remove:\n",
    "    l[i] = \"&&\"\n",
    "l = [i for i in l if i != \"&&\"]\n",
    "print(l)\n",
    "\n"
   ]
  },
  {
   "cell_type": "code",
   "execution_count": 44,
   "metadata": {},
   "outputs": [
    {
     "name": "stdout",
     "output_type": "stream",
     "text": [
      "Enter list elements: 1 2 3 4 5\n",
      "Original List:  ['1', '2', '3', '4', '5']\n",
      "Copied List:  ['1', '2', '3', '4', '5']\n"
     ]
    }
   ],
   "source": [
    "l = input(\"Enter list elements: \").split(\" \")\n",
    "print(\"Original List: \", l)\n",
    "l2 = [i for i in l]\n",
    "print(\"Copied List: \", l2)"
   ]
  },
  {
   "cell_type": "markdown",
   "metadata": {},
   "source": [
    "## Prac 5"
   ]
  },
  {
   "cell_type": "markdown",
   "metadata": {},
   "source": [
    "### 1"
   ]
  },
  {
   "cell_type": "code",
   "execution_count": 87,
   "metadata": {},
   "outputs": [],
   "source": [
    "def sort(d, desc=False):\n",
    "    elems = [(i,j) for i, j in d.items()]\n",
    "    elems.sort(key= lambda i: i[1], reverse=desc)  \n",
    "    return {t[0]:t[1] for t in elems}"
   ]
  },
  {
   "cell_type": "code",
   "execution_count": 98,
   "metadata": {},
   "outputs": [
    {
     "data": {
      "text/plain": [
       "{'a': 1, 'b': 2, 'd': 4, 'c': 6}"
      ]
     },
     "execution_count": 98,
     "metadata": {},
     "output_type": "execute_result"
    }
   ],
   "source": [
    "d = {\"c\":6,\"a\":1,\"d\":4,\"b\":2}\n",
    "sort(d)"
   ]
  },
  {
   "cell_type": "code",
   "execution_count": 99,
   "metadata": {},
   "outputs": [
    {
     "data": {
      "text/plain": [
       "{'c': 6, 'd': 4, 'b': 2, 'a': 1}"
      ]
     },
     "execution_count": 99,
     "metadata": {},
     "output_type": "execute_result"
    }
   ],
   "source": [
    "sort(d,desc=True)"
   ]
  },
  {
   "cell_type": "markdown",
   "metadata": {},
   "source": [
    "### 2"
   ]
  },
  {
   "cell_type": "code",
   "execution_count": 90,
   "metadata": {},
   "outputs": [
    {
     "name": "stdout",
     "output_type": "stream",
     "text": [
      "Concatenated Dict:  {1: 10, 2: 20, 3: 30, 4: 40, 5: 50, 6: 60}\n"
     ]
    }
   ],
   "source": [
    "d1 = {1:10, 2:20}\n",
    "d2 = {3:30,4:40}\n",
    "d3 = {5:50,6:60}\n",
    "\n",
    "new_d = {}\n",
    "for d in [d1,d2,d3]:\n",
    "    for k,v in d.items():\n",
    "        new_d[k] = v\n",
    "print(\"Concatenated Dict: \", new_d)"
   ]
  },
  {
   "cell_type": "markdown",
   "metadata": {},
   "source": [
    "### 3"
   ]
  },
  {
   "cell_type": "code",
   "execution_count": 104,
   "metadata": {},
   "outputs": [
    {
     "name": "stdout",
     "output_type": "stream",
     "text": [
      "Sum of values:  210\n"
     ]
    }
   ],
   "source": [
    "d = {1: 10, 2: 20, 3: 30, 4: 40, 5: 50, 6: 60}\n",
    "print(\"Sum of values: \", sum(d.values()))"
   ]
  },
  {
   "cell_type": "markdown",
   "metadata": {},
   "source": [
    "## Prac 6"
   ]
  },
  {
   "cell_type": "markdown",
   "metadata": {},
   "source": [
    "## 1"
   ]
  },
  {
   "cell_type": "code",
   "execution_count": 105,
   "metadata": {},
   "outputs": [
    {
     "name": "stdout",
     "output_type": "stream",
     "text": [
      "This is line 1\n",
      "This is line 2\n"
     ]
    }
   ],
   "source": [
    "with open(\"my_file.txt\", \"r\") as f:\n",
    "    s = f.read()\n",
    "print(s)"
   ]
  },
  {
   "cell_type": "markdown",
   "metadata": {},
   "source": [
    "### 2"
   ]
  },
  {
   "cell_type": "code",
   "execution_count": 107,
   "metadata": {},
   "outputs": [
    {
     "name": "stdout",
     "output_type": "stream",
     "text": [
      "This is line 1\n",
      "This is line 2\n",
      "This is line 3\n"
     ]
    }
   ],
   "source": [
    "new_text = \"This is line 3\"\n",
    "with open(\"my_file.txt\", \"a\") as f:\n",
    "    f.write(f\"\\n{new_text}\")\n",
    "with open(\"my_file.txt\", \"r\") as f:\n",
    "    s = f.read()\n",
    "print(s)"
   ]
  },
  {
   "cell_type": "code",
   "execution_count": 112,
   "metadata": {},
   "outputs": [
    {
     "name": "stdout",
     "output_type": "stream",
     "text": [
      "Enter how many last lines: 2\n"
     ]
    },
    {
     "data": {
      "text/plain": [
       "['This is line 2\\n', 'This is line 3']"
      ]
     },
     "execution_count": 112,
     "metadata": {},
     "output_type": "execute_result"
    }
   ],
   "source": [
    "def read_last_n_lines(n):\n",
    "    with open(\"my_file.txt\", \"r\") as f:\n",
    "        lines = f.readlines()\n",
    "    return lines[-n:]\n",
    "n = int(input(\"Enter how many last lines: \"))\n",
    "read_last_n_lines(n)"
   ]
  },
  {
   "cell_type": "markdown",
   "metadata": {},
   "source": [
    "## Prac 7"
   ]
  },
  {
   "cell_type": "code",
   "execution_count": null,
   "metadata": {},
   "outputs": [],
   "source": []
  }
 ],
 "metadata": {
  "kernelspec": {
   "display_name": "Python 3",
   "language": "python",
   "name": "python3"
  },
  "language_info": {
   "codemirror_mode": {
    "name": "ipython",
    "version": 3
   },
   "file_extension": ".py",
   "mimetype": "text/x-python",
   "name": "python",
   "nbconvert_exporter": "python",
   "pygments_lexer": "ipython3",
   "version": "3.7.3"
  }
 },
 "nbformat": 4,
 "nbformat_minor": 2
}
